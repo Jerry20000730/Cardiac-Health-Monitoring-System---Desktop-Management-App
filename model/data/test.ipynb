{
 "cells": [
  {
   "cell_type": "code",
   "execution_count": 2,
   "id": "boxed-lecture",
   "metadata": {},
   "outputs": [],
   "source": [
    "import numpy as np\n",
    "import pandas as pd"
   ]
  },
  {
   "cell_type": "code",
   "execution_count": 10,
   "id": "incorporate-termination",
   "metadata": {},
   "outputs": [],
   "source": [
    "bp_data = pd.read_csv('example_bm.txt', sep='\\t')"
   ]
  },
  {
   "cell_type": "code",
   "execution_count": 11,
   "id": "apart-williams",
   "metadata": {},
   "outputs": [
    {
     "data": {
      "text/plain": [
       "0    61.0\n",
       "1    61.0\n",
       "2    61.0\n",
       "3    61.0\n",
       "4    61.0\n",
       "5    61.0\n",
       "6    61.0\n",
       "7    75.0\n",
       "Name: value, dtype: float64"
      ]
     },
     "execution_count": 11,
     "metadata": {},
     "output_type": "execute_result"
    }
   ],
   "source": [
    "bp_data[\"value\"]"
   ]
  },
  {
   "cell_type": "code",
   "execution_count": 12,
   "id": "coated-grammar",
   "metadata": {},
   "outputs": [
    {
     "data": {
      "text/html": [
       "<div>\n",
       "<style scoped>\n",
       "    .dataframe tbody tr th:only-of-type {\n",
       "        vertical-align: middle;\n",
       "    }\n",
       "\n",
       "    .dataframe tbody tr th {\n",
       "        vertical-align: top;\n",
       "    }\n",
       "\n",
       "    .dataframe thead th {\n",
       "        text-align: right;\n",
       "    }\n",
       "</style>\n",
       "<table border=\"1\" class=\"dataframe\">\n",
       "  <thead>\n",
       "    <tr style=\"text-align: right;\">\n",
       "      <th></th>\n",
       "      <th>time</th>\n",
       "      <th>value</th>\n",
       "      <th>device</th>\n",
       "    </tr>\n",
       "  </thead>\n",
       "  <tbody>\n",
       "    <tr>\n",
       "      <th>0</th>\n",
       "      <td>2022-02-21 14:09:30.917000+00:00</td>\n",
       "      <td>61.0</td>\n",
       "      <td>measurement</td>\n",
       "    </tr>\n",
       "    <tr>\n",
       "      <th>1</th>\n",
       "      <td>2022-02-22 14:09:30.917000+00:00</td>\n",
       "      <td>61.0</td>\n",
       "      <td>measurement</td>\n",
       "    </tr>\n",
       "    <tr>\n",
       "      <th>2</th>\n",
       "      <td>2022-02-23 14:09:30.917000+00:00</td>\n",
       "      <td>61.0</td>\n",
       "      <td>measurement</td>\n",
       "    </tr>\n",
       "    <tr>\n",
       "      <th>3</th>\n",
       "      <td>2022-02-24 14:09:30.917000+00:00</td>\n",
       "      <td>61.0</td>\n",
       "      <td>measurement</td>\n",
       "    </tr>\n",
       "    <tr>\n",
       "      <th>4</th>\n",
       "      <td>2022-02-25 14:09:30.917000+00:00</td>\n",
       "      <td>61.0</td>\n",
       "      <td>measurement</td>\n",
       "    </tr>\n",
       "    <tr>\n",
       "      <th>5</th>\n",
       "      <td>2022-02-26 14:09:30.917000+00:00</td>\n",
       "      <td>61.0</td>\n",
       "      <td>measurement</td>\n",
       "    </tr>\n",
       "    <tr>\n",
       "      <th>6</th>\n",
       "      <td>2022-02-27 14:09:30.917000+00:00</td>\n",
       "      <td>61.0</td>\n",
       "      <td>measurement</td>\n",
       "    </tr>\n",
       "    <tr>\n",
       "      <th>7</th>\n",
       "      <td>2022-03-05 06:49:33.986062+00:00</td>\n",
       "      <td>75.0</td>\n",
       "      <td>measurement</td>\n",
       "    </tr>\n",
       "  </tbody>\n",
       "</table>\n",
       "</div>"
      ],
      "text/plain": [
       "                               time  value       device\n",
       "0  2022-02-21 14:09:30.917000+00:00   61.0  measurement\n",
       "1  2022-02-22 14:09:30.917000+00:00   61.0  measurement\n",
       "2  2022-02-23 14:09:30.917000+00:00   61.0  measurement\n",
       "3  2022-02-24 14:09:30.917000+00:00   61.0  measurement\n",
       "4  2022-02-25 14:09:30.917000+00:00   61.0  measurement\n",
       "5  2022-02-26 14:09:30.917000+00:00   61.0  measurement\n",
       "6  2022-02-27 14:09:30.917000+00:00   61.0  measurement\n",
       "7  2022-03-05 06:49:33.986062+00:00   75.0  measurement"
      ]
     },
     "execution_count": 12,
     "metadata": {},
     "output_type": "execute_result"
    }
   ],
   "source": [
    "bp_data"
   ]
  },
  {
   "cell_type": "code",
   "execution_count": null,
   "id": "worthy-village",
   "metadata": {},
   "outputs": [],
   "source": []
  }
 ],
 "metadata": {
  "kernelspec": {
   "display_name": "Python 3",
   "language": "python",
   "name": "python3"
  },
  "language_info": {
   "codemirror_mode": {
    "name": "ipython",
    "version": 3
   },
   "file_extension": ".py",
   "mimetype": "text/x-python",
   "name": "python",
   "nbconvert_exporter": "python",
   "pygments_lexer": "ipython3",
   "version": "3.7.4"
  }
 },
 "nbformat": 4,
 "nbformat_minor": 5
}
